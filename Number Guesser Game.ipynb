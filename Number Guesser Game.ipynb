{
 "cells": [
  {
   "cell_type": "markdown",
   "id": "a4eb4983",
   "metadata": {},
   "source": [
    "### Guess The Number Game"
   ]
  },
  {
   "cell_type": "code",
   "execution_count": 3,
   "id": "e512284e",
   "metadata": {},
   "outputs": [],
   "source": [
    "import random\n"
   ]
  },
  {
   "cell_type": "code",
   "execution_count": 4,
   "id": "f93977c9",
   "metadata": {},
   "outputs": [
    {
     "name": "stdout",
     "output_type": "stream",
     "text": [
      "Hello there, what's your name?\n",
      "Debby\n"
     ]
    }
   ],
   "source": [
    "print('Hello there, what\\'s your name?')\n",
    "name = str(input())\n",
    "\n"
   ]
  },
  {
   "cell_type": "code",
   "execution_count": 6,
   "id": "8b542e6d",
   "metadata": {},
   "outputs": [
    {
     "name": "stdout",
     "output_type": "stream",
     "text": [
      "So, Debby , Let's play a game I want you to guess the number i am thinking of between 1 and 10 \n"
     ]
    }
   ],
   "source": [
    "print('So, '+ name +' , Let\\'s play a game I want you to guess the number I am thinking of between 1 and 10 ')\n",
    "\n",
    "secretno = random.randint(1,10)\n"
   ]
  },
  {
   "cell_type": "code",
   "execution_count": 12,
   "id": "8fc659d9",
   "metadata": {},
   "outputs": [
    {
     "name": "stdout",
     "output_type": "stream",
     "text": [
      "Take a guess\n",
      "6\n",
      "Whoops, too low\n",
      "Take a guess\n",
      "7\n",
      "Whoops, too low\n",
      "Take a guess\n",
      "8\n",
      "Whoops, too low\n",
      "Take a guess\n",
      "9\n",
      "Hurray, Debby you got it in 4 tries\n"
     ]
    }
   ],
   "source": [
    "# Limit the amount of guesses\n",
    "#Ask for guesses in a prompt\n",
    "#Create a loop for if the guess is too high or low\n",
    "#reveal the secret number.\n",
    "\n",
    "\n",
    "for guesses in range(1,5):\n",
    "    print('Take a guess')\n",
    "    guess = int(input())\n",
    "    \n",
    "    if guess < secretno:\n",
    "        print('Whoops, too low')\n",
    "    elif guess > secretno:\n",
    "        print('Whoops, too high')\n",
    "    else:\n",
    "        break\n",
    "        \n",
    "if guess == secretno:\n",
    "    print('Hurray, ' + name+ ' you got it in ' +str(guesses)+ ' tries')\n",
    "else:\n",
    "    print('Oops, the number was ' + str(secretno)+ ' Try Again')"
   ]
  },
  {
   "cell_type": "code",
   "execution_count": null,
   "id": "f05d89f4",
   "metadata": {},
   "outputs": [],
   "source": []
  }
 ],
 "metadata": {
  "kernelspec": {
   "display_name": "Python 3",
   "language": "python",
   "name": "python3"
  },
  "language_info": {
   "codemirror_mode": {
    "name": "ipython",
    "version": 3
   },
   "file_extension": ".py",
   "mimetype": "text/x-python",
   "name": "python",
   "nbconvert_exporter": "python",
   "pygments_lexer": "ipython3",
   "version": "3.8.8"
  }
 },
 "nbformat": 4,
 "nbformat_minor": 5
}
